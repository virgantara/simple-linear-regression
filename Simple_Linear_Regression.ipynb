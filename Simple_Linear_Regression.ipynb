{
  "nbformat": 4,
  "nbformat_minor": 0,
  "metadata": {
    "kernelspec": {
      "display_name": "Python 3",
      "language": "python",
      "name": "python3"
    },
    "language_info": {
      "codemirror_mode": {
        "name": "ipython",
        "version": 3
      },
      "file_extension": ".py",
      "mimetype": "text/x-python",
      "name": "python",
      "nbconvert_exporter": "python",
      "pygments_lexer": "ipython3",
      "version": "3.6.6"
    },
    "colab": {
      "name": "Simple Linear Regression",
      "provenance": [],
      "collapsed_sections": [],
      "include_colab_link": true
    }
  },
  "cells": [
    {
      "cell_type": "markdown",
      "metadata": {
        "id": "view-in-github",
        "colab_type": "text"
      },
      "source": [
        "<a href=\"https://colab.research.google.com/github/virgantara/simple-linear-regression/blob/master/Simple_Linear_Regression.ipynb\" target=\"_parent\"><img src=\"https://colab.research.google.com/assets/colab-badge.svg\" alt=\"Open In Colab\"/></a>"
      ]
    },
    {
      "cell_type": "code",
      "metadata": {
        "_cell_guid": "b1076dfc-b9ad-4769-8c92-a6c4dae69d19",
        "_uuid": "8f2839f25d086af736a60e9eeb907d3b93b6e0e5",
        "id": "jIXWOcNNSN8M",
        "colab_type": "code",
        "colab": {}
      },
      "source": [
        "# This Python 3 environment comes with many helpful analytics libraries installed\n",
        "# It is defined by the kaggle/python docker image: https://github.com/kaggle/docker-python\n",
        "# For example, here's several helpful packages to load in \n",
        "\n",
        "import numpy as np # linear algebra\n",
        "import pandas as pd # data processing, CSV file I/O (e.g. pd.read_csv)\n",
        "import matplotlib.pyplot as plt\n",
        "import seaborn as seabornInstance\n",
        "from sklearn.model_selection import train_test_split\n",
        "from sklearn.linear_model import LinearRegression\n",
        "from sklearn import metrics\n",
        "# Input data files are available in the \"../input/\" directory.\n",
        "# For example, running this (by clicking run or pressing Shift+Enter) will list all files under the input directory\n"
      ],
      "execution_count": 0,
      "outputs": []
    },
    {
      "cell_type": "markdown",
      "metadata": {
        "id": "pMULG7XtSN8Z",
        "colab_type": "text"
      },
      "source": [
        "Load data dari dataset akpam"
      ]
    },
    {
      "cell_type": "code",
      "metadata": {
        "_cell_guid": "",
        "_uuid": "",
        "id": "LOpo7Ey2SN8f",
        "colab_type": "code",
        "outputId": "ec012eac-3a88-40a4-8a78-f28c0524518d",
        "colab": {
          "base_uri": "https://localhost:8080/",
          "height": 35
        }
      },
      "source": [
        "dataset = pd.read_csv(\"https://raw.githubusercontent.com/virgantara/sample_dataset/master/akpam.csv\")\n",
        "# dataset = pd.read_csv(\"/content/akpam.csv\")\n",
        "dataset.shape"
      ],
      "execution_count": 2,
      "outputs": [
        {
          "output_type": "execute_result",
          "data": {
            "text/plain": [
              "(8, 2)"
            ]
          },
          "metadata": {
            "tags": []
          },
          "execution_count": 2
        }
      ]
    },
    {
      "cell_type": "markdown",
      "metadata": {
        "id": "oj8SIm1vSN8l",
        "colab_type": "text"
      },
      "source": [
        "Plot atau view data ke dalam grafik untuk visualisasi. Dikarenakan pola data cenderung linier, kita bisa modelkan ke dalam model persamaan linier, yaitu:\n",
        "\\begin{align}\n",
        "y = b + ax \\\\\n",
        "\\end{align}"
      ]
    },
    {
      "cell_type": "code",
      "metadata": {
        "id": "HzcQ1V68SN8o",
        "colab_type": "code",
        "outputId": "419ce3d3-245c-4891-cca1-5308145bd093",
        "colab": {
          "base_uri": "https://localhost:8080/",
          "height": 295
        }
      },
      "source": [
        "dataset.plot(x='Akpam', y='ips', style='o')\n",
        "plt.title('AKPAM vs IPS')\n",
        "plt.xlabel('Akpam')\n",
        "plt.ylabel('ips')\n",
        "plt.show()"
      ],
      "execution_count": 3,
      "outputs": [
        {
          "output_type": "display_data",
          "data": {
            "image/png": "[encoded data removed]",
            "text/plain": [
              "<Figure size 432x288 with 1 Axes>"
            ]
          },
          "metadata": {
            "tags": []
          }
        }
      ]
    },
    {
      "cell_type": "markdown",
      "metadata": {
        "id": "6QJFHs8XSN8u",
        "colab_type": "text"
      },
      "source": [
        "\n",
        "Memetakan dataset ke variabel X dan Y"
      ]
    },
    {
      "cell_type": "code",
      "metadata": {
        "id": "UXT1KdsmSN8w",
        "colab_type": "code",
        "colab": {}
      },
      "source": [
        "X = dataset['ips'].values.reshape(-1,1)\n",
        "y = dataset['Akpam'].values.reshape(-1,1)"
      ],
      "execution_count": 0,
      "outputs": []
    },
    {
      "cell_type": "markdown",
      "metadata": {
        "id": "zSlqXZE1SN82",
        "colab_type": "text"
      },
      "source": [
        "Memilah/split dataset menjadi 80 % untuk data training dan sisanya untuk data testing. \n",
        "test_size=0.2 artinya menentukan ukuran data test sebesar 0.2 atau 20 % dari dataset asli "
      ]
    },
    {
      "cell_type": "code",
      "metadata": {
        "id": "c9qKEJ06SN84",
        "colab_type": "code",
        "colab": {}
      },
      "source": [
        "X_train, X_test, y_train, y_test = train_test_split(X, y, test_size=0.2)\n"
      ],
      "execution_count": 0,
      "outputs": []
    },
    {
      "cell_type": "markdown",
      "metadata": {
        "id": "RF0XjuhgSN89",
        "colab_type": "text"
      },
      "source": [
        "Karena pola data cenderung linier, maka dipakai metode Regresi Linier. Di sini, dipakai class dari library sklearn yaitu LinearRegression"
      ]
    },
    {
      "cell_type": "code",
      "metadata": {
        "id": "B8cSgY2GSN8_",
        "colab_type": "code",
        "colab": {}
      },
      "source": [
        "regressor = LinearRegression()\n"
      ],
      "execution_count": 0,
      "outputs": []
    },
    {
      "cell_type": "markdown",
      "metadata": {
        "id": "YHt7rv1dSN9E",
        "colab_type": "text"
      },
      "source": [
        "Berikutnya adalah training atau melatih data dari variabel X_train dan y_train. Tujuan dari training adalah mencari nilai koefisien sehingga akan didapatkan model persamaan liniernya."
      ]
    },
    {
      "cell_type": "code",
      "metadata": {
        "id": "WLG7SW2KSN9G",
        "colab_type": "code",
        "outputId": "b5382a72-3f6d-427e-a6c0-2a932c7f60c9",
        "colab": {
          "base_uri": "https://localhost:8080/",
          "height": 54
        }
      },
      "source": [
        "regressor.fit(X_train, y_train) #training the algorithm\n",
        "print(regressor.intercept_)\n",
        "print(regressor.coef_)"
      ],
      "execution_count": 7,
      "outputs": [
        {
          "output_type": "stream",
          "text": [
            "[-48.40540541]\n",
            "[[55.18918919]]\n"
          ],
          "name": "stdout"
        }
      ]
    },
    {
      "cell_type": "markdown",
      "metadata": {
        "id": "NyYf2ErBSN9L",
        "colab_type": "text"
      },
      "source": [
        "regressor.coef_ adalah koefisien model yang didapat. Secara matematis, kita sudah dapat model formula dari persamaan linier antara ips dengan akpam, misalnya:\n",
        "\\begin{align}\n",
        "y = 48.62x - 16.41 \\\\\n",
        "\\end{align}\n",
        "\n",
        "dari model, kita melakukan uji coba testing dengan data 20% sisanya. "
      ]
    },
    {
      "cell_type": "code",
      "metadata": {
        "id": "rW8PdhbTSN9M",
        "colab_type": "code",
        "outputId": "20fd1af0-b52d-4636-ea60-821ab5fa12e5",
        "colab": {
          "base_uri": "https://localhost:8080/",
          "height": 265
        }
      },
      "source": [
        "y_pred = regressor.predict(X_test)\n",
        "plt.scatter(X_test, y_test,  color='gray')\n",
        "plt.plot(X_test, y_pred, color='red', linewidth=2)\n",
        "plt.show()"
      ],
      "execution_count": 8,
      "outputs": [
        {
          "output_type": "display_data",
          "data": {
            "image/png": "[encoded data removed]",
            "text/plain": [
              "<Figure size 432x288 with 1 Axes>"
            ]
          },
          "metadata": {
            "tags": []
          }
        }
      ]
    },
    {
      "cell_type": "markdown",
      "metadata": {
        "id": "-pRovr3FSN9S",
        "colab_type": "text"
      },
      "source": [
        "Dalam uji coba model, perlu diukur tingkat akurasinya. Salah satu caranya menggunakan metode Root Mean Squared Error (RMSE). Adapun formula dari MSE adalah sebagai berikut:\n",
        "\\begin{align}\n",
        "RMSE = \\sqrt{\\frac{\\sum_{i=1}^n (y_i - y_i')^2}{n}}\n",
        "\\end{align}\n",
        "di mana $y_i$ adalah hasil output model, $y_i'$ adalah data output yang divalidasi, dan $n$ adalah jumlah data"
      ]
    },
    {
      "cell_type": "code",
      "metadata": {
        "id": "CdbGAzqRSN9U",
        "colab_type": "code",
        "outputId": "14a4ffc5-6512-488d-fa83-a6fba0bee96c",
        "colab": {
          "base_uri": "https://localhost:8080/",
          "height": 35
        }
      },
      "source": [
        "print('RMSE:', np.sqrt(metrics.mean_squared_error(y_test, y_pred)))"
      ],
      "execution_count": 9,
      "outputs": [
        {
          "output_type": "stream",
          "text": [
            "RMSE: 34.7173550358698\n"
          ],
          "name": "stdout"
        }
      ]
    },
    {
      "cell_type": "markdown",
      "metadata": {
        "id": "lGSVteyASN9Z",
        "colab_type": "text"
      },
      "source": [
        "$RMSE \\approx 0$, maka semakin akurat model yang dibuat"
      ]
    }
  ]
}